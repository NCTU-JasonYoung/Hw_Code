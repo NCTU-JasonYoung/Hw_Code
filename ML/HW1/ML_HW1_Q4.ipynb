{
  "nbformat": 4,
  "nbformat_minor": 0,
  "metadata": {
    "colab": {
      "name": "ML_HW1_Q4.ipynb",
      "provenance": [],
      "collapsed_sections": []
    },
    "kernelspec": {
      "name": "python3",
      "display_name": "Python 3"
    }
  },
  "cells": [
    {
      "cell_type": "code",
      "metadata": {
        "id": "iEiFofHUnUx9",
        "colab_type": "code",
        "outputId": "0a1ac80b-379a-45d4-ba1d-5231162fc30d",
        "colab": {
          "base_uri": "https://localhost:8080/",
          "height": 53
        }
      },
      "source": [
        "import random\n",
        "import statistics \n",
        "\n",
        "rand = []\n",
        "for i in range(10000):\n",
        "  rand.append(random.uniform(0,1))\n",
        "\n",
        "sample = []\n",
        "for i in range(20):\n",
        "  sample.append(random.sample(rand,10)) #創造20個set  每個set有10個number\n",
        "\n",
        "exp_mean = []\n",
        "std = []\n",
        "for i in range(20):\n",
        "  exp_mean.append(statistics.mean(sample[i])) #算出sample所有mean\n",
        "\n",
        "#用sample所有mean計算平均數和標準差\n",
        "mean = statistics.mean(exp_mean)\n",
        "std = statistics.stdev(exp_mean)\n",
        "print ('sample mean:'+ str(mean))\n",
        "print ('sample deviation:'+ str(std))"
      ],
      "execution_count": 0,
      "outputs": [
        {
          "output_type": "stream",
          "text": [
            "sample mean:0.4818087124281749\n",
            "sample deviation:0.08733934421382455\n"
          ],
          "name": "stdout"
        }
      ]
    },
    {
      "cell_type": "code",
      "metadata": {
        "id": "8MP8D5l2xdJo",
        "colab_type": "code",
        "outputId": "2b7e16da-056c-4bb0-88a9-11d1e2f1c3e4",
        "colab": {
          "base_uri": "https://localhost:8080/",
          "height": 53
        }
      },
      "source": [
        "rand = []\n",
        "for i in range(10000):\n",
        "  rand.append(random.uniform(0,1))\n",
        "\n",
        "sample = []\n",
        "for i in range(50):\n",
        "  sample.append(random.sample(rand,1000)) #創造50個  set  每個set有1000個number\n",
        "\n",
        "exp_mean = []\n",
        "std = []\n",
        "for i in range(50):\n",
        "  exp_mean.append(statistics.mean(sample[i]))#算出sample所有mean\n",
        "\n",
        "\n",
        "#用sample所有mean計算平均數和標準差\n",
        "mean = statistics.mean(exp_mean)\n",
        "std = statistics.stdev(exp_mean)\n",
        "print ('sample mean:'+ str(mean))\n",
        "print ('sample deviation:'+ str(std))"
      ],
      "execution_count": 0,
      "outputs": [
        {
          "output_type": "stream",
          "text": [
            "sample mean:0.5034642266163262\n",
            "sample deviation:0.008660817939592383\n"
          ],
          "name": "stdout"
        }
      ]
    }
  ]
}